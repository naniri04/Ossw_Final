{
 "cells": [
  {
   "cell_type": "code",
   "execution_count": 1,
   "metadata": {},
   "outputs": [],
   "source": [
    "import numpy as np\n",
    "import sklearn\n",
    "import pandas as pd\n",
    "from PIL import Image\n",
    "import os\n",
    "import seaborn as sns\n",
    "import matplotlib.pyplot as plt"
   ]
  },
  {
   "cell_type": "code",
   "execution_count": 2,
   "metadata": {},
   "outputs": [],
   "source": [
    "gt, mt, nt, pt = [], [], [], []\n",
    "\n",
    "def im_to_arr(dfl:list, path:str):\n",
    "    filenames = os.listdir(path=path)\n",
    "    filen = len(filenames)\n",
    "    for i in range(filen):\n",
    "        img = Image.open(path+'/'+filenames[i]).convert('L')\n",
    "        dfl.append(np.asarray(img))"
   ]
  },
  {
   "cell_type": "code",
   "execution_count": 3,
   "metadata": {},
   "outputs": [],
   "source": [
    "im_to_arr(gt, \"tumor_dataset/Training/glioma_tumor\")\n",
    "im_to_arr(nt, \"tumor_dataset/Training/no_tumor\")\n",
    "im_to_arr(mt, \"tumor_dataset/Training/meningioma_tumor\")\n",
    "im_to_arr(pt, \"tumor_dataset/Training/pituitary_tumor\")"
   ]
  },
  {
   "cell_type": "code",
   "execution_count": 4,
   "metadata": {},
   "outputs": [],
   "source": [
    "def imageshow(arr:np.ndarray):\n",
    "    plt.figure(figsize=(5, 5))\n",
    "    plt.imshow(arr, cmap='gray')\n",
    "    plt.axis('off')\n",
    "    plt.show()"
   ]
  },
  {
   "cell_type": "code",
   "execution_count": 18,
   "metadata": {},
   "outputs": [
    {
     "name": "stdout",
     "output_type": "stream",
     "text": [
      "(512, 512)    826\n",
      "Name: count, dtype: int64\n",
      "(512, 512)    679\n",
      "(225, 225)      8\n",
      "(442, 442)      4\n",
      "(251, 201)      3\n",
      "(500, 455)      3\n",
      "             ... \n",
      "(303, 252)      1\n",
      "(306, 278)      1\n",
      "(356, 286)      1\n",
      "(341, 315)      1\n",
      "(674, 534)      1\n",
      "Name: count, Length: 124, dtype: int64\n",
      "(512, 512)      799\n",
      "(256, 256)       13\n",
      "(474, 474)        2\n",
      "(400, 400)        1\n",
      "(681, 685)        1\n",
      "(202, 202)        1\n",
      "(1280, 1280)      1\n",
      "(442, 442)        1\n",
      "(502, 502)        1\n",
      "(378, 360)        1\n",
      "(903, 721)        1\n",
      "(1365, 1365)      1\n",
      "(432, 470)        1\n",
      "(900, 940)        1\n",
      "(210, 201)        1\n",
      "(741, 900)        1\n",
      "Name: count, dtype: int64\n",
      "(236, 236)    46\n",
      "(225, 225)    22\n",
      "(630, 630)    14\n",
      "(350, 350)    10\n",
      "(442, 442)    10\n",
      "              ..\n",
      "(211, 219)     1\n",
      "(600, 652)     1\n",
      "(256, 256)     1\n",
      "(398, 497)     1\n",
      "(215, 235)     1\n",
      "Name: count, Length: 231, dtype: int64\n"
     ]
    }
   ],
   "source": [
    "def shape_check(l):\n",
    "    tl = []\n",
    "    for arr in l:\n",
    "        tl.append(arr.shape)\n",
    "    x = pd.Series(tl)\n",
    "    print(x.value_counts())\n",
    "\n",
    "shape_check(gt)\n",
    "shape_check(mt)\n",
    "shape_check(pt)\n",
    "shape_check(nt)"
   ]
  },
  {
   "cell_type": "code",
   "execution_count": null,
   "metadata": {},
   "outputs": [],
   "source": []
  }
 ],
 "metadata": {
  "kernelspec": {
   "display_name": "base",
   "language": "python",
   "name": "python3"
  },
  "language_info": {
   "codemirror_mode": {
    "name": "ipython",
    "version": 3
   },
   "file_extension": ".py",
   "mimetype": "text/x-python",
   "name": "python",
   "nbconvert_exporter": "python",
   "pygments_lexer": "ipython3",
   "version": "3.11.5"
  }
 },
 "nbformat": 4,
 "nbformat_minor": 2
}
